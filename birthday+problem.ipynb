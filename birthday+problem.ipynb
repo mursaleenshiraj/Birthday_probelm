{
 "cells": [
  {
   "cell_type": "code",
   "execution_count": 1,
   "metadata": {
    "collapsed": true
   },
   "outputs": [],
   "source": [
    "import numpy as np\n",
    "import time"
   ]
  },
  {
   "cell_type": "code",
   "execution_count": 2,
   "metadata": {
    "collapsed": true
   },
   "outputs": [],
   "source": [
    "days=np.arange(1, 365, 1)"
   ]
  },
  {
   "cell_type": "code",
   "execution_count": 3,
   "metadata": {
    "collapsed": true
   },
   "outputs": [],
   "source": [
    "def bdayprob(size, iter):\n",
    "    '''The function takes two arguments.\n",
    "    group size, and how many times to run the iteration before \n",
    "    retruning the calculated probability of having at least two\n",
    "    indivs the same bday.'''\n",
    "    res=0\n",
    "    j=0\n",
    "    \n",
    "    while j<iter:\n",
    "        l=np.random.choice(days, size=size, replace=True)\n",
    "        lnew=np.sort(l)\n",
    "        for i in range(len(lnew)-1):\n",
    "            if lnew[i]==lnew[i+1]:\n",
    "                res=res+1\n",
    "                break\n",
    "        j=j+1\n",
    "    return res/iter"
   ]
  },
  {
   "cell_type": "markdown",
   "metadata": {},
   "source": [
    "I am also getting the time so that I can show my class that how quickly these kind of problems can be solved. Actually the code can be made more efficient and get results faster, but that may not help see the mechanism behind it."
   ]
  },
  {
   "cell_type": "code",
   "execution_count": 4,
   "metadata": {},
   "outputs": [
    {
     "name": "stdout",
     "output_type": "stream",
     "text": [
      "probability is : 0.5\n",
      "Time in seconds : 0.042893171310424805\n"
     ]
    }
   ],
   "source": [
    "start=time.time()\n",
    "print(\"probability is :\", bdayprob(23, 1000))\n",
    "end=time.time()\n",
    "print(\"Time in seconds :\", end-start)"
   ]
  },
  {
   "cell_type": "code",
   "execution_count": 5,
   "metadata": {},
   "outputs": [
    {
     "name": "stdout",
     "output_type": "stream",
     "text": [
      "probability is : 0.501\n",
      "Time in seconds : 0.23705053329467773\n"
     ]
    }
   ],
   "source": [
    "start=time.time()\n",
    "print(\"probability is :\", bdayprob(23, 5000))\n",
    "end=time.time()\n",
    "print(\"Time in seconds :\", end-start)"
   ]
  },
  {
   "cell_type": "code",
   "execution_count": 6,
   "metadata": {},
   "outputs": [
    {
     "name": "stdout",
     "output_type": "stream",
     "text": [
      "probability is : 0.50796\n",
      "Time in seconds : 2.2390236854553223\n"
     ]
    }
   ],
   "source": [
    "# See how quickly we can get similar results like \n",
    "# <https://en.wikipedia.org/wiki/Birthday_problem>\n",
    "start=time.time()\n",
    "print(\"probability is :\", bdayprob(23, 50000))\n",
    "end=time.time()\n",
    "print(\"Time in seconds :\", end-start)"
   ]
  },
  {
   "cell_type": "code",
   "execution_count": 7,
   "metadata": {},
   "outputs": [
    {
     "name": "stdout",
     "output_type": "stream",
     "text": [
      "probability is : 0.811\n",
      "Time in seconds : 0.040189504623413086\n"
     ]
    }
   ],
   "source": [
    "start=time.time()\n",
    "print(\"probability is :\", bdayprob(36, 1000))\n",
    "end=time.time()\n",
    "print(\"Time in seconds :\", end-start)\n",
    "# this was the original problem we discussed in class"
   ]
  },
  {
   "cell_type": "code",
   "execution_count": 8,
   "metadata": {},
   "outputs": [
    {
     "name": "stdout",
     "output_type": "stream",
     "text": [
      "probability is : 0.824\n",
      "Time in seconds : 0.23958706855773926\n"
     ]
    }
   ],
   "source": [
    "start=time.time()\n",
    "print(\"probability is :\", bdayprob(36, 5000))\n",
    "end=time.time()\n",
    "print(\"Time in seconds :\", end-start)"
   ]
  },
  {
   "cell_type": "code",
   "execution_count": 9,
   "metadata": {},
   "outputs": [
    {
     "name": "stdout",
     "output_type": "stream",
     "text": [
      "probability is : 0.8369\n",
      "Time in seconds : 0.5087928771972656\n"
     ]
    }
   ],
   "source": [
    "start=time.time()\n",
    "print(\"probability is :\", bdayprob(36, 10000))\n",
    "end=time.time()\n",
    "print(\"Time in seconds :\", end-start)"
   ]
  },
  {
   "cell_type": "code",
   "execution_count": 10,
   "metadata": {},
   "outputs": [
    {
     "name": "stdout",
     "output_type": "stream",
     "text": [
      "probability is : 0.83256\n",
      "Time in seconds : 2.3869571685791016\n"
     ]
    }
   ],
   "source": [
    "start=time.time()\n",
    "print(\"probability is :\", bdayprob(36, 50000))\n",
    "end=time.time()\n",
    "print(\"Time in seconds :\", end-start)"
   ]
  },
  {
   "cell_type": "markdown",
   "metadata": {},
   "source": [
    "These number seem reasonable from the wikipidea page, right?"
   ]
  }
 ],
 "metadata": {
  "kernelspec": {
   "display_name": "Python 3",
   "language": "python",
   "name": "python3"
  },
  "language_info": {
   "codemirror_mode": {
    "name": "ipython",
    "version": 3
   },
   "file_extension": ".py",
   "mimetype": "text/x-python",
   "name": "python",
   "nbconvert_exporter": "python",
   "pygments_lexer": "ipython3",
   "version": "3.6.1"
  }
 },
 "nbformat": 4,
 "nbformat_minor": 2
}
